{
 "cells": [
  {
   "cell_type": "code",
   "execution_count": 40,
   "id": "ea6acdee",
   "metadata": {},
   "outputs": [],
   "source": [
    "import warnings\n",
    "warnings.filterwarnings('ignore')\n",
    "\n",
    "import pandas as pd\n",
    "import seaborn as sns\n",
    "import numpy as np\n",
    "import matplotlib.pyplot as plt\n",
    "\n",
    "from sklearn.model_selection import train_test_split\n",
    "from sklearn.model_selection import GridSearchCV\n",
    "\n",
    "from sklearn.tree import DecisionTreeRegressor\n",
    "\n",
    "import scipy.stats\n",
    "from sklearn import linear_model\n",
    "from sklearn.metrics import mean_squared_error\n",
    "random_state = 94922767 # this will be used to guarantee the repeatability of the experiment\n"
   ]
  },
  {
   "cell_type": "markdown",
   "id": "4e290d6c",
   "metadata": {},
   "source": [
    "Loading the data and setting the column names and printing the head"
   ]
  },
  {
   "cell_type": "code",
   "execution_count": 41,
   "id": "8d5ca852",
   "metadata": {},
   "outputs": [
    {
     "data": {
      "text/html": [
       "<div>\n",
       "<style scoped>\n",
       "    .dataframe tbody tr th:only-of-type {\n",
       "        vertical-align: middle;\n",
       "    }\n",
       "\n",
       "    .dataframe tbody tr th {\n",
       "        vertical-align: top;\n",
       "    }\n",
       "\n",
       "    .dataframe thead th {\n",
       "        text-align: right;\n",
       "    }\n",
       "</style>\n",
       "<table border=\"1\" class=\"dataframe\">\n",
       "  <thead>\n",
       "    <tr style=\"text-align: right;\">\n",
       "      <th></th>\n",
       "      <th>X00</th>\n",
       "      <th>X01</th>\n",
       "      <th>X02</th>\n",
       "      <th>X03</th>\n",
       "      <th>X04</th>\n",
       "      <th>X05</th>\n",
       "      <th>X06</th>\n",
       "      <th>X07</th>\n",
       "      <th>X08</th>\n",
       "      <th>X09</th>\n",
       "      <th>y</th>\n",
       "    </tr>\n",
       "  </thead>\n",
       "  <tbody>\n",
       "    <tr>\n",
       "      <th>0</th>\n",
       "      <td>-0.016771</td>\n",
       "      <td>-0.026036</td>\n",
       "      <td>-0.001474</td>\n",
       "      <td>0.104545</td>\n",
       "      <td>0.352163</td>\n",
       "      <td>0.023372</td>\n",
       "      <td>0.003706</td>\n",
       "      <td>0.004963</td>\n",
       "      <td>-0.007113</td>\n",
       "      <td>0.022166</td>\n",
       "      <td>3.288439</td>\n",
       "    </tr>\n",
       "    <tr>\n",
       "      <th>1</th>\n",
       "      <td>-0.011618</td>\n",
       "      <td>0.025699</td>\n",
       "      <td>-0.026818</td>\n",
       "      <td>0.053014</td>\n",
       "      <td>0.613195</td>\n",
       "      <td>-0.012447</td>\n",
       "      <td>0.029382</td>\n",
       "      <td>-0.006348</td>\n",
       "      <td>-0.036920</td>\n",
       "      <td>-0.016464</td>\n",
       "      <td>-2.333510</td>\n",
       "    </tr>\n",
       "    <tr>\n",
       "      <th>2</th>\n",
       "      <td>0.027478</td>\n",
       "      <td>0.009282</td>\n",
       "      <td>-0.020700</td>\n",
       "      <td>0.630085</td>\n",
       "      <td>0.612415</td>\n",
       "      <td>-0.004157</td>\n",
       "      <td>0.008240</td>\n",
       "      <td>0.019062</td>\n",
       "      <td>0.010821</td>\n",
       "      <td>-0.012983</td>\n",
       "      <td>2.259783</td>\n",
       "    </tr>\n",
       "    <tr>\n",
       "      <th>3</th>\n",
       "      <td>-0.003170</td>\n",
       "      <td>-0.001697</td>\n",
       "      <td>-0.028924</td>\n",
       "      <td>0.389900</td>\n",
       "      <td>0.000182</td>\n",
       "      <td>0.027526</td>\n",
       "      <td>0.012792</td>\n",
       "      <td>-0.021192</td>\n",
       "      <td>-0.011102</td>\n",
       "      <td>0.015352</td>\n",
       "      <td>2.939127</td>\n",
       "    </tr>\n",
       "    <tr>\n",
       "      <th>4</th>\n",
       "      <td>-0.039508</td>\n",
       "      <td>-0.009104</td>\n",
       "      <td>0.021215</td>\n",
       "      <td>0.951426</td>\n",
       "      <td>0.778600</td>\n",
       "      <td>0.018246</td>\n",
       "      <td>-0.000294</td>\n",
       "      <td>-0.012900</td>\n",
       "      <td>0.004178</td>\n",
       "      <td>0.014846</td>\n",
       "      <td>1.623948</td>\n",
       "    </tr>\n",
       "  </tbody>\n",
       "</table>\n",
       "</div>"
      ],
      "text/plain": [
       "        X00       X01       X02       X03       X04       X05       X06  \\\n",
       "0 -0.016771 -0.026036 -0.001474  0.104545  0.352163  0.023372  0.003706   \n",
       "1 -0.011618  0.025699 -0.026818  0.053014  0.613195 -0.012447  0.029382   \n",
       "2  0.027478  0.009282 -0.020700  0.630085  0.612415 -0.004157  0.008240   \n",
       "3 -0.003170 -0.001697 -0.028924  0.389900  0.000182  0.027526  0.012792   \n",
       "4 -0.039508 -0.009104  0.021215  0.951426  0.778600  0.018246 -0.000294   \n",
       "\n",
       "        X07       X08       X09         y  \n",
       "0  0.004963 -0.007113  0.022166  3.288439  \n",
       "1 -0.006348 -0.036920 -0.016464 -2.333510  \n",
       "2  0.019062  0.010821 -0.012983  2.259783  \n",
       "3 -0.021192 -0.011102  0.015352  2.939127  \n",
       "4 -0.012900  0.004178  0.014846  1.623948  "
      ]
     },
     "execution_count": 41,
     "metadata": {},
     "output_type": "execute_result"
    }
   ],
   "source": [
    "d=pd.read_csv('ml_python_labexam_2023_02_03.csv')\n",
    "d.head()"
   ]
  },
  {
   "cell_type": "markdown",
   "id": "2246d22d",
   "metadata": {},
   "source": [
    "Printing the shape of the data"
   ]
  },
  {
   "cell_type": "code",
   "execution_count": 42,
   "id": "b0d9d333",
   "metadata": {},
   "outputs": [
    {
     "data": {
      "text/plain": [
       "(1000, 11)"
      ]
     },
     "execution_count": 42,
     "metadata": {},
     "output_type": "execute_result"
    }
   ],
   "source": [
    "d.shape"
   ]
  },
  {
   "cell_type": "markdown",
   "id": "8dfc25c1",
   "metadata": {},
   "source": [
    "Exploring the data descriptions"
   ]
  },
  {
   "cell_type": "code",
   "execution_count": 43,
   "id": "5f09556e",
   "metadata": {},
   "outputs": [
    {
     "data": {
      "text/html": [
       "<div>\n",
       "<style scoped>\n",
       "    .dataframe tbody tr th:only-of-type {\n",
       "        vertical-align: middle;\n",
       "    }\n",
       "\n",
       "    .dataframe tbody tr th {\n",
       "        vertical-align: top;\n",
       "    }\n",
       "\n",
       "    .dataframe thead th {\n",
       "        text-align: right;\n",
       "    }\n",
       "</style>\n",
       "<table border=\"1\" class=\"dataframe\">\n",
       "  <thead>\n",
       "    <tr style=\"text-align: right;\">\n",
       "      <th></th>\n",
       "      <th>X00</th>\n",
       "      <th>X01</th>\n",
       "      <th>X02</th>\n",
       "      <th>X03</th>\n",
       "      <th>X04</th>\n",
       "      <th>X05</th>\n",
       "      <th>X06</th>\n",
       "      <th>X07</th>\n",
       "      <th>X08</th>\n",
       "      <th>X09</th>\n",
       "      <th>y</th>\n",
       "    </tr>\n",
       "  </thead>\n",
       "  <tbody>\n",
       "    <tr>\n",
       "      <th>count</th>\n",
       "      <td>1000.000000</td>\n",
       "      <td>1000.000000</td>\n",
       "      <td>1000.000000</td>\n",
       "      <td>1.000000e+03</td>\n",
       "      <td>1.000000e+03</td>\n",
       "      <td>1000.000000</td>\n",
       "      <td>1000.000000</td>\n",
       "      <td>1000.000000</td>\n",
       "      <td>1000.000000</td>\n",
       "      <td>1000.000000</td>\n",
       "      <td>1000.000000</td>\n",
       "    </tr>\n",
       "    <tr>\n",
       "      <th>mean</th>\n",
       "      <td>0.000127</td>\n",
       "      <td>0.000297</td>\n",
       "      <td>-0.000421</td>\n",
       "      <td>3.378287e-01</td>\n",
       "      <td>2.521912e-01</td>\n",
       "      <td>0.000364</td>\n",
       "      <td>-0.000191</td>\n",
       "      <td>0.000553</td>\n",
       "      <td>0.000130</td>\n",
       "      <td>0.000524</td>\n",
       "      <td>0.437747</td>\n",
       "    </tr>\n",
       "    <tr>\n",
       "      <th>std</th>\n",
       "      <td>0.023475</td>\n",
       "      <td>0.018878</td>\n",
       "      <td>0.019124</td>\n",
       "      <td>2.952473e-01</td>\n",
       "      <td>2.877240e-01</td>\n",
       "      <td>0.017402</td>\n",
       "      <td>0.019349</td>\n",
       "      <td>0.017783</td>\n",
       "      <td>0.018999</td>\n",
       "      <td>0.025391</td>\n",
       "      <td>2.407762</td>\n",
       "    </tr>\n",
       "    <tr>\n",
       "      <th>min</th>\n",
       "      <td>-0.074550</td>\n",
       "      <td>-0.055749</td>\n",
       "      <td>-0.063489</td>\n",
       "      <td>9.531015e-07</td>\n",
       "      <td>6.913766e-10</td>\n",
       "      <td>-0.054694</td>\n",
       "      <td>-0.058531</td>\n",
       "      <td>-0.054578</td>\n",
       "      <td>-0.062925</td>\n",
       "      <td>-0.073059</td>\n",
       "      <td>-6.609545</td>\n",
       "    </tr>\n",
       "    <tr>\n",
       "      <th>25%</th>\n",
       "      <td>-0.015763</td>\n",
       "      <td>-0.012357</td>\n",
       "      <td>-0.013722</td>\n",
       "      <td>6.778294e-02</td>\n",
       "      <td>1.552023e-02</td>\n",
       "      <td>-0.011251</td>\n",
       "      <td>-0.013393</td>\n",
       "      <td>-0.011797</td>\n",
       "      <td>-0.012001</td>\n",
       "      <td>-0.018202</td>\n",
       "      <td>-1.200759</td>\n",
       "    </tr>\n",
       "    <tr>\n",
       "      <th>50%</th>\n",
       "      <td>0.000446</td>\n",
       "      <td>0.000269</td>\n",
       "      <td>-0.000891</td>\n",
       "      <td>2.638645e-01</td>\n",
       "      <td>1.218160e-01</td>\n",
       "      <td>0.000675</td>\n",
       "      <td>-0.000333</td>\n",
       "      <td>0.000422</td>\n",
       "      <td>-0.000858</td>\n",
       "      <td>-0.000219</td>\n",
       "      <td>0.336424</td>\n",
       "    </tr>\n",
       "    <tr>\n",
       "      <th>75%</th>\n",
       "      <td>0.015529</td>\n",
       "      <td>0.013924</td>\n",
       "      <td>0.012571</td>\n",
       "      <td>5.712697e-01</td>\n",
       "      <td>4.295876e-01</td>\n",
       "      <td>0.012217</td>\n",
       "      <td>0.012797</td>\n",
       "      <td>0.012697</td>\n",
       "      <td>0.012722</td>\n",
       "      <td>0.018642</td>\n",
       "      <td>2.175038</td>\n",
       "    </tr>\n",
       "    <tr>\n",
       "      <th>max</th>\n",
       "      <td>0.079599</td>\n",
       "      <td>0.073114</td>\n",
       "      <td>0.052593</td>\n",
       "      <td>9.996939e-01</td>\n",
       "      <td>9.988956e-01</td>\n",
       "      <td>0.053673</td>\n",
       "      <td>0.051803</td>\n",
       "      <td>0.049480</td>\n",
       "      <td>0.061867</td>\n",
       "      <td>0.081461</td>\n",
       "      <td>7.915506</td>\n",
       "    </tr>\n",
       "  </tbody>\n",
       "</table>\n",
       "</div>"
      ],
      "text/plain": [
       "               X00          X01          X02           X03           X04  \\\n",
       "count  1000.000000  1000.000000  1000.000000  1.000000e+03  1.000000e+03   \n",
       "mean      0.000127     0.000297    -0.000421  3.378287e-01  2.521912e-01   \n",
       "std       0.023475     0.018878     0.019124  2.952473e-01  2.877240e-01   \n",
       "min      -0.074550    -0.055749    -0.063489  9.531015e-07  6.913766e-10   \n",
       "25%      -0.015763    -0.012357    -0.013722  6.778294e-02  1.552023e-02   \n",
       "50%       0.000446     0.000269    -0.000891  2.638645e-01  1.218160e-01   \n",
       "75%       0.015529     0.013924     0.012571  5.712697e-01  4.295876e-01   \n",
       "max       0.079599     0.073114     0.052593  9.996939e-01  9.988956e-01   \n",
       "\n",
       "               X05          X06          X07          X08          X09  \\\n",
       "count  1000.000000  1000.000000  1000.000000  1000.000000  1000.000000   \n",
       "mean      0.000364    -0.000191     0.000553     0.000130     0.000524   \n",
       "std       0.017402     0.019349     0.017783     0.018999     0.025391   \n",
       "min      -0.054694    -0.058531    -0.054578    -0.062925    -0.073059   \n",
       "25%      -0.011251    -0.013393    -0.011797    -0.012001    -0.018202   \n",
       "50%       0.000675    -0.000333     0.000422    -0.000858    -0.000219   \n",
       "75%       0.012217     0.012797     0.012697     0.012722     0.018642   \n",
       "max       0.053673     0.051803     0.049480     0.061867     0.081461   \n",
       "\n",
       "                 y  \n",
       "count  1000.000000  \n",
       "mean      0.437747  \n",
       "std       2.407762  \n",
       "min      -6.609545  \n",
       "25%      -1.200759  \n",
       "50%       0.336424  \n",
       "75%       2.175038  \n",
       "max       7.915506  "
      ]
     },
     "execution_count": 43,
     "metadata": {},
     "output_type": "execute_result"
    }
   ],
   "source": [
    "d.describe()"
   ]
  },
  {
   "cell_type": "markdown",
   "id": "07d4aa33",
   "metadata": {},
   "source": [
    "Plotting the boxplot"
   ]
  },
  {
   "cell_type": "code",
   "execution_count": 44,
   "id": "5f13e804",
   "metadata": {
    "scrolled": true
   },
   "outputs": [
    {
     "data": {
      "image/png": "[encoded data removed]",
      "text/plain": [
       "<Figure size 1080x720 with 1 Axes>"
      ]
     },
     "metadata": {
      "needs_background": "light"
     },
     "output_type": "display_data"
    }
   ],
   "source": [
    "# plotting without the target\n",
    "plt.figure(figsize=(15,10))\n",
    "sns.boxplot(data = d.iloc[:,:-1]);"
   ]
  },
  {
   "cell_type": "markdown",
   "id": "d134420b",
   "metadata": {},
   "source": [
    "The correlation matrix"
   ]
  },
  {
   "cell_type": "code",
   "execution_count": 45,
   "id": "2cb1eeb2",
   "metadata": {},
   "outputs": [
    {
     "data": {
      "image/png": "[encoded data removed]",
      "text/plain": [
       "<Figure size 720x576 with 2 Axes>"
      ]
     },
     "metadata": {
      "needs_background": "light"
     },
     "output_type": "display_data"
    }
   ],
   "source": [
    "corr_matrix = d.corr()\n",
    "plt.figure(figsize=(10, 8))\n",
    "sns.heatmap(corr_matrix, annot=True)\n",
    "plt.show()"
   ]
  },
  {
   "cell_type": "markdown",
   "id": "f8065f4c",
   "metadata": {},
   "source": [
    "From the above exploration it can be seen that \n",
    "1. The box plot shows there are few outliers\n",
    "2. The columns 'X02', 'X03','X04' and 'X07' has the absolute value of correlation with the target less than 0.15"
   ]
  },
  {
   "cell_type": "code",
   "execution_count": 46,
   "id": "d72d1c3c",
   "metadata": {},
   "outputs": [
    {
     "name": "stdout",
     "output_type": "stream",
     "text": [
      "(1000, 10) (1000,)\n"
     ]
    }
   ],
   "source": [
    "X = d.drop('y', axis=1)\n",
    "Y = d['y']\n",
    "print(X.shape, Y.shape)"
   ]
  },
  {
   "cell_type": "markdown",
   "id": "39606149",
   "metadata": {},
   "source": [
    "Splitting into training and testing data"
   ]
  },
  {
   "cell_type": "code",
   "execution_count": 75,
   "id": "0139ae1b",
   "metadata": {},
   "outputs": [
    {
     "name": "stdout",
     "output_type": "stream",
     "text": [
      "Training set and test set have 700 and 300 elements respectively\n"
     ]
    }
   ],
   "source": [
    "X_train, X_test, y_train, y_test = train_test_split(X,Y,random_state=random_state, train_size=0.7)\n",
    "print('Training set and test set have {} and {} elements respectively'.format(X_train.shape[0],X_test.shape[0]))"
   ]
  },
  {
   "cell_type": "markdown",
   "id": "00857da9",
   "metadata": {},
   "source": [
    "Training and Testing a Multivariate Linear Regressor and printing the Root Mean\n",
    "Squared Error"
   ]
  },
  {
   "cell_type": "code",
   "execution_count": 76,
   "id": "7ab35ed5",
   "metadata": {},
   "outputs": [
    {
     "name": "stdout",
     "output_type": "stream",
     "text": [
      "The Root Mean Square Value : 0.8966103174598462 \n"
     ]
    }
   ],
   "source": [
    "# Creating linear regression object\n",
    "linear_multi = linear_model.LinearRegression()\n",
    "\n",
    "# Training the model using the training set\n",
    "linear_multi.fit(X_train, y_train)\n",
    "\n",
    "# Makeing predictions using the test set\n",
    "y_test_pred = linear_multi.predict(X_test)\n",
    "\n",
    "# The mean squared error\n",
    "rmse = mean_squared_error(y_test, y_test_pred, squared=False)\n",
    "print('The Root Mean Square Value : {} '.format(rmse))"
   ]
  },
  {
   "cell_type": "markdown",
   "id": "ebcee898",
   "metadata": {},
   "source": [
    "Reducing the dataset by dropping the columns loosely correlated with the target, i.e the columns 'X02','X03' and 'X07' has the absolute value of correlation with the target less than 0.15"
   ]
  },
  {
   "cell_type": "code",
   "execution_count": 77,
   "id": "6cbbd87a",
   "metadata": {},
   "outputs": [
    {
     "name": "stdout",
     "output_type": "stream",
     "text": [
      "(700, 6) (300, 6)\n"
     ]
    }
   ],
   "source": [
    "X_train_reduced=X_train.drop(['X02','X03','X04','X07'],axis=1)\n",
    "X_test_reduced=X_test.drop(['X02','X03','X04','X07'],axis=1)\n",
    "print(X_train_reduced.shape, X_test_reduced.shape)"
   ]
  },
  {
   "cell_type": "markdown",
   "id": "11997bf6",
   "metadata": {},
   "source": [
    "Training and  Testing a Multivariate Linear Regressor on the reduced dataset"
   ]
  },
  {
   "cell_type": "code",
   "execution_count": 78,
   "id": "a3dcd536",
   "metadata": {},
   "outputs": [
    {
     "name": "stdout",
     "output_type": "stream",
     "text": [
      "The Root Mean Square Value : 1.0361973257778305 \n"
     ]
    }
   ],
   "source": [
    "# Createing linear regression object\n",
    "linear_multi = linear_model.LinearRegression()\n",
    "\n",
    "# Training the model using the training set\n",
    "linear_multi.fit(X_train_reduced, y_train)\n",
    "\n",
    "# Makeing predictions using the test set\n",
    "y_test_pred_reduced = linear_multi.predict(X_test_reduced)\n",
    "\n",
    "# The mean squared error\n",
    "rmse_reduced = mean_squared_error(y_test, y_test_pred_reduced, squared=False)\n",
    "print('The Root Mean Square Value : {} '.format(rmse_reduced))"
   ]
  },
  {
   "cell_type": "markdown",
   "id": "de24c601",
   "metadata": {},
   "source": [
    "Training and Testing on the reduced dataset a Decision Tree Regressor, and printing the Root Mean Squared Error"
   ]
  },
  {
   "cell_type": "markdown",
   "id": "147b6c2b",
   "metadata": {},
   "source": [
    "Fitting the tree with default hyperparameters, and finding the maximum depth of the unconstrained tree"
   ]
  },
  {
   "cell_type": "code",
   "execution_count": 79,
   "id": "c2c0af89",
   "metadata": {},
   "outputs": [
    {
     "name": "stdout",
     "output_type": "stream",
     "text": [
      "The maximum depth of the full Decision Tree Regressor is 19\n"
     ]
    }
   ],
   "source": [
    "dt = DecisionTreeRegressor(random_state=random_state)\n",
    "# Training the model using the training set\n",
    "dt.fit(X_train_reduced, y_train);\n",
    "max_max_depth = dt.tree_.max_depth\n",
    "print(\"The maximum depth of the full Decision Tree Regressor is {}\".format(max_max_depth))"
   ]
  },
  {
   "cell_type": "code",
   "execution_count": 80,
   "id": "86dd05d9",
   "metadata": {},
   "outputs": [
    {
     "name": "stdout",
     "output_type": "stream",
     "text": [
      "Decision Tree Regressor - RMSE : 2.184275481737452 \n"
     ]
    }
   ],
   "source": [
    "# The Root Mean Square Error\n",
    "y_test_pred_dt = dt.predict(X_test_reduced)\n",
    "\n",
    "rmse_dt = mean_squared_error(y_test, y_test_pred_dt, squared=False)\n",
    "print('Decision Tree Regressor - RMSE : {} '.format(rmse_dt))"
   ]
  },
  {
   "cell_type": "markdown",
   "id": "9eddda91",
   "metadata": {},
   "source": [
    "Optimising the depth of the Decision Tree Regressor using cross-validation, and printing the best RMSE."
   ]
  },
  {
   "cell_type": "code",
   "execution_count": 83,
   "id": "48bd5652",
   "metadata": {},
   "outputs": [
    {
     "name": "stdout",
     "output_type": "stream",
     "text": [
      "The optimal maximum depth for the decision tree is 16\n"
     ]
    }
   ],
   "source": [
    "param_grid = {'max_depth': list(range(1,max_max_depth))}\n",
    "\n",
    "# creating the grid search cross validation object\n",
    "dt_gscv = GridSearchCV(estimator=DecisionTreeRegressor(random_state=random_state)\n",
    "                    , param_grid=param_grid\n",
    "                    , scoring='neg_root_mean_squared_error' # selecting model with minimum rmse\n",
    "                    )\n",
    "dt_gscv.fit(X_train_reduced,y_train);\n",
    "\n",
    "# the GridSearchCV returns the best estimator\n",
    "dt_best = dt_gscv.best_estimator_ \n",
    "best_max_depth = dt_best.tree_.max_depth\n",
    "\n",
    "print(\"The optimal maximum depth for the decision tree is {}\".format(best_max_depth))"
   ]
  },
  {
   "cell_type": "code",
   "execution_count": 86,
   "id": "111d879e",
   "metadata": {},
   "outputs": [
    {
     "name": "stdout",
     "output_type": "stream",
     "text": [
      "Decision Tree Regression - RMSE : 2.1733489481476584\n"
     ]
    }
   ],
   "source": [
    "# The Root Mean Square Error\n",
    "y_test_pred_dt_best = dt_best.predict(X_test_reduced)\n",
    "\n",
    "rmse_dt_best = mean_squared_error(y_test, y_test_pred_dt_best, squared=False)\n",
    "\n",
    "print(\"Decision Tree Regression - RMSE : {}\".format(rmse_dt_best))"
   ]
  },
  {
   "cell_type": "code",
   "execution_count": 85,
   "id": "7fdfd45f",
   "metadata": {},
   "outputs": [
    {
     "name": "stdout",
     "output_type": "stream",
     "text": [
      " Final Report\n",
      " Multivariate Regression using Complete Dataset \t : \t0.8966103174598462\n",
      " Multivariate Regression using Reduced Dataset \t : \t1.0361973257778305\n",
      " Decision Tree Regression without Optimization \t : \t2.184275481737452\n",
      " Decision Tree Regression with Optimization \t : \t2.1733489481476584\n"
     ]
    }
   ],
   "source": [
    "print(\" Final Report\")\n",
    "print(\" Multivariate Regression using Complete Dataset \\t : \\t{}\".format(rmse))\n",
    "print(\" Multivariate Regression using Reduced Dataset \\t : \\t{}\".format(rmse_reduced))\n",
    "print(\" Decision Tree Regression without Optimization \\t : \\t{}\".format(rmse_dt))\n",
    "print(\" Decision Tree Regression with Optimization \\t : \\t{}\".format(rmse_dt_best))"
   ]
  },
  {
   "cell_type": "markdown",
   "id": "45489cb2",
   "metadata": {},
   "source": [
    "From the above report it can be seen that the Multivariate Regression using the complete dataset gave a lower RMSE while on dropping columns with correlation less than 0.15 increased the RMSE.\n",
    "\n",
    "For the Decision Tree Regressor the Optimized model with the best tree depth of 16 gave a little better RMSE than the not optimized model.\n",
    "\n",
    "To compare the multivariate linear regressor and the Decision Tree Regressor, the Multivariate Linear Regressor has done a better prediction as Lower the RMSE value better is the prediction."
   ]
  }
 ],
 "metadata": {
  "kernelspec": {
   "display_name": "Python 3 (ipykernel)",
   "language": "python",
   "name": "python3"
  },
  "language_info": {
   "codemirror_mode": {
    "name": "ipython",
    "version": 3
   },
   "file_extension": ".py",
   "mimetype": "text/x-python",
   "name": "python",
   "nbconvert_exporter": "python",
   "pygments_lexer": "ipython3",
   "version": "3.10.4"
  }
 },
 "nbformat": 4,
 "nbformat_minor": 5
}
